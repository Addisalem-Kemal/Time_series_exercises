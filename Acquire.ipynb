{
 "cells": [
  {
   "cell_type": "markdown",
   "id": "8bb256aa-83b9-4b8d-bd65-059f3f82c5b4",
   "metadata": {},
   "source": [
    "The end result of this exercise should be a file named acquire.py."
   ]
  },
  {
   "cell_type": "markdown",
   "id": "d43229c9-cfe9-4215-a8d3-73e3c59eb8ce",
   "metadata": {},
   "source": [
    "Using the code from the lesson as a guide and the REST API from https://python.zgulde.net/api/v1/items as we did in the lesson, create a dataframe named items that has all of the data for items."
   ]
  },
  {
   "cell_type": "code",
   "execution_count": 1,
   "id": "9ae609f8-6af5-4abb-98cb-abd8616a88fa",
   "metadata": {},
   "outputs": [],
   "source": [
    "import pandas as pd\n",
    "import requests"
   ]
  },
  {
   "cell_type": "markdown",
   "id": "9ee3e707-73c4-4dd4-ab56-6d67a3e01d30",
   "metadata": {},
   "source": []
  },
  {
   "cell_type": "code",
   "execution_count": 4,
   "id": "338a591d-a216-46ee-9a97-179cc80e588a",
   "metadata": {},
   "outputs": [
    {
     "data": {
      "text/plain": [
       "<Response [200]>"
      ]
     },
     "execution_count": 4,
     "metadata": {},
     "output_type": "execute_result"
    }
   ],
   "source": [
    "url = 'https://python.zgulde.net/api/v1/items'\n",
    "response = requests.get(url)\n",
    "response"
   ]
  },
  {
   "cell_type": "code",
   "execution_count": 11,
   "id": "266c70e0-d704-4abc-8a01-40f5c24a6871",
   "metadata": {},
   "outputs": [
    {
     "data": {
      "text/plain": [
       "dict_keys(['payload', 'status'])"
      ]
     },
     "execution_count": 11,
     "metadata": {},
     "output_type": "execute_result"
    }
   ],
   "source": [
    "data = response.json()\n",
    "data.keys()"
   ]
  },
  {
   "cell_type": "code",
   "execution_count": 14,
   "id": "c28d561c-dacb-4df8-98f5-cd2760490ee0",
   "metadata": {},
   "outputs": [
    {
     "data": {
      "text/html": [
       "<div>\n",
       "<style scoped>\n",
       "    .dataframe tbody tr th:only-of-type {\n",
       "        vertical-align: middle;\n",
       "    }\n",
       "\n",
       "    .dataframe tbody tr th {\n",
       "        vertical-align: top;\n",
       "    }\n",
       "\n",
       "    .dataframe thead th {\n",
       "        text-align: right;\n",
       "    }\n",
       "</style>\n",
       "<table border=\"1\" class=\"dataframe\">\n",
       "  <thead>\n",
       "    <tr style=\"text-align: right;\">\n",
       "      <th></th>\n",
       "      <th>item_brand</th>\n",
       "      <th>item_id</th>\n",
       "      <th>item_name</th>\n",
       "      <th>item_price</th>\n",
       "      <th>item_upc12</th>\n",
       "      <th>item_upc14</th>\n",
       "    </tr>\n",
       "  </thead>\n",
       "  <tbody>\n",
       "    <tr>\n",
       "      <th>0</th>\n",
       "      <td>Riceland</td>\n",
       "      <td>1</td>\n",
       "      <td>Riceland American Jazmine Rice</td>\n",
       "      <td>0.84</td>\n",
       "      <td>35200264013</td>\n",
       "      <td>35200264013</td>\n",
       "    </tr>\n",
       "    <tr>\n",
       "      <th>1</th>\n",
       "      <td>Caress</td>\n",
       "      <td>2</td>\n",
       "      <td>Caress Velvet Bliss Ultra Silkening Beauty Bar...</td>\n",
       "      <td>6.44</td>\n",
       "      <td>11111065925</td>\n",
       "      <td>11111065925</td>\n",
       "    </tr>\n",
       "    <tr>\n",
       "      <th>2</th>\n",
       "      <td>Earths Best</td>\n",
       "      <td>3</td>\n",
       "      <td>Earths Best Organic Fruit Yogurt Smoothie Mixe...</td>\n",
       "      <td>2.43</td>\n",
       "      <td>23923330139</td>\n",
       "      <td>23923330139</td>\n",
       "    </tr>\n",
       "    <tr>\n",
       "      <th>3</th>\n",
       "      <td>Boars Head</td>\n",
       "      <td>4</td>\n",
       "      <td>Boars Head Sliced White American Cheese - 120 Ct</td>\n",
       "      <td>3.14</td>\n",
       "      <td>208528800007</td>\n",
       "      <td>208528800007</td>\n",
       "    </tr>\n",
       "    <tr>\n",
       "      <th>4</th>\n",
       "      <td>Back To Nature</td>\n",
       "      <td>5</td>\n",
       "      <td>Back To Nature Gluten Free White Cheddar Rice ...</td>\n",
       "      <td>2.61</td>\n",
       "      <td>759283100036</td>\n",
       "      <td>759283100036</td>\n",
       "    </tr>\n",
       "  </tbody>\n",
       "</table>\n",
       "</div>"
      ],
      "text/plain": [
       "       item_brand  item_id                                          item_name  \\\n",
       "0        Riceland        1                     Riceland American Jazmine Rice   \n",
       "1          Caress        2  Caress Velvet Bliss Ultra Silkening Beauty Bar...   \n",
       "2     Earths Best        3  Earths Best Organic Fruit Yogurt Smoothie Mixe...   \n",
       "3      Boars Head        4   Boars Head Sliced White American Cheese - 120 Ct   \n",
       "4  Back To Nature        5  Back To Nature Gluten Free White Cheddar Rice ...   \n",
       "\n",
       "   item_price    item_upc12    item_upc14  \n",
       "0        0.84   35200264013   35200264013  \n",
       "1        6.44   11111065925   11111065925  \n",
       "2        2.43   23923330139   23923330139  \n",
       "3        3.14  208528800007  208528800007  \n",
       "4        2.61  759283100036  759283100036  "
      ]
     },
     "execution_count": 14,
     "metadata": {},
     "output_type": "execute_result"
    }
   ],
   "source": [
    "items = pd.DataFrame(data['payload']['items'])\n",
    "items.head()"
   ]
  },
  {
   "cell_type": "code",
   "execution_count": 15,
   "id": "9e0ce2a5-246e-492e-a1ec-bcde7d622d93",
   "metadata": {},
   "outputs": [
    {
     "data": {
      "text/plain": [
       "(20, 6)"
      ]
     },
     "execution_count": 15,
     "metadata": {},
     "output_type": "execute_result"
    }
   ],
   "source": [
    "items.shape"
   ]
  },
  {
   "cell_type": "code",
   "execution_count": 17,
   "id": "63c8d27e-9f6f-48bc-a708-d012374c4f27",
   "metadata": {},
   "outputs": [],
   "source": [
    "base_url = 'https://python.zgulde.net'"
   ]
  },
  {
   "cell_type": "code",
   "execution_count": 18,
   "id": "e9dc3a81-1207-46d0-b048-cbe5e7268a63",
   "metadata": {},
   "outputs": [],
   "source": [
    "response2 = requests.get(base_url + data['payload']['next_page'])"
   ]
  },
  {
   "cell_type": "code",
   "execution_count": 21,
   "id": "234be41b-546c-4605-b291-1b71229043b3",
   "metadata": {},
   "outputs": [
    {
     "data": {
      "text/html": [
       "<div>\n",
       "<style scoped>\n",
       "    .dataframe tbody tr th:only-of-type {\n",
       "        vertical-align: middle;\n",
       "    }\n",
       "\n",
       "    .dataframe tbody tr th {\n",
       "        vertical-align: top;\n",
       "    }\n",
       "\n",
       "    .dataframe thead th {\n",
       "        text-align: right;\n",
       "    }\n",
       "</style>\n",
       "<table border=\"1\" class=\"dataframe\">\n",
       "  <thead>\n",
       "    <tr style=\"text-align: right;\">\n",
       "      <th></th>\n",
       "      <th>item_brand</th>\n",
       "      <th>item_id</th>\n",
       "      <th>item_name</th>\n",
       "      <th>item_price</th>\n",
       "      <th>item_upc12</th>\n",
       "      <th>item_upc14</th>\n",
       "    </tr>\n",
       "  </thead>\n",
       "  <tbody>\n",
       "    <tr>\n",
       "      <th>0</th>\n",
       "      <td>Doctors Best</td>\n",
       "      <td>21</td>\n",
       "      <td>Doctors Best Best Curcumin C3 Complex 1000mg T...</td>\n",
       "      <td>8.09</td>\n",
       "      <td>753950001954</td>\n",
       "      <td>753950001954</td>\n",
       "    </tr>\n",
       "    <tr>\n",
       "      <th>1</th>\n",
       "      <td>Betty Crocker</td>\n",
       "      <td>22</td>\n",
       "      <td>Betty Crocker Twin Pack Real Potatoes Scallope...</td>\n",
       "      <td>7.31</td>\n",
       "      <td>16000288829</td>\n",
       "      <td>16000288829</td>\n",
       "    </tr>\n",
       "    <tr>\n",
       "      <th>2</th>\n",
       "      <td>Reese</td>\n",
       "      <td>23</td>\n",
       "      <td>Reese Mandarin Oranges Segments In Light Syrup</td>\n",
       "      <td>1.78</td>\n",
       "      <td>70670009658</td>\n",
       "      <td>70670009658</td>\n",
       "    </tr>\n",
       "    <tr>\n",
       "      <th>3</th>\n",
       "      <td>Smart Living</td>\n",
       "      <td>24</td>\n",
       "      <td>Smart Living Charcoal Lighter Fluid</td>\n",
       "      <td>5.34</td>\n",
       "      <td>688267084225</td>\n",
       "      <td>688267084225</td>\n",
       "    </tr>\n",
       "    <tr>\n",
       "      <th>4</th>\n",
       "      <td>Hood</td>\n",
       "      <td>25</td>\n",
       "      <td>Hood Latte Iced Coffee Drink Vanilla Latte</td>\n",
       "      <td>2.43</td>\n",
       "      <td>44100117428</td>\n",
       "      <td>44100117428</td>\n",
       "    </tr>\n",
       "  </tbody>\n",
       "</table>\n",
       "</div>"
      ],
      "text/plain": [
       "      item_brand  item_id                                          item_name  \\\n",
       "0   Doctors Best       21  Doctors Best Best Curcumin C3 Complex 1000mg T...   \n",
       "1  Betty Crocker       22  Betty Crocker Twin Pack Real Potatoes Scallope...   \n",
       "2          Reese       23     Reese Mandarin Oranges Segments In Light Syrup   \n",
       "3   Smart Living       24                Smart Living Charcoal Lighter Fluid   \n",
       "4           Hood       25         Hood Latte Iced Coffee Drink Vanilla Latte   \n",
       "\n",
       "   item_price    item_upc12    item_upc14  \n",
       "0        8.09  753950001954  753950001954  \n",
       "1        7.31   16000288829   16000288829  \n",
       "2        1.78   70670009658   70670009658  \n",
       "3        5.34  688267084225  688267084225  \n",
       "4        2.43   44100117428   44100117428  "
      ]
     },
     "execution_count": 21,
     "metadata": {},
     "output_type": "execute_result"
    }
   ],
   "source": [
    "data2 = response2.json()\n",
    "items2 = pd.DataFrame(data2['payload']['items'])\n",
    "items2.head()"
   ]
  },
  {
   "cell_type": "code",
   "execution_count": 24,
   "id": "50b02eb7-50b3-4298-830d-7cc9811f9721",
   "metadata": {},
   "outputs": [
    {
     "data": {
      "text/html": [
       "<div>\n",
       "<style scoped>\n",
       "    .dataframe tbody tr th:only-of-type {\n",
       "        vertical-align: middle;\n",
       "    }\n",
       "\n",
       "    .dataframe tbody tr th {\n",
       "        vertical-align: top;\n",
       "    }\n",
       "\n",
       "    .dataframe thead th {\n",
       "        text-align: right;\n",
       "    }\n",
       "</style>\n",
       "<table border=\"1\" class=\"dataframe\">\n",
       "  <thead>\n",
       "    <tr style=\"text-align: right;\">\n",
       "      <th></th>\n",
       "      <th>level_0</th>\n",
       "      <th>index</th>\n",
       "      <th>item_brand</th>\n",
       "      <th>item_id</th>\n",
       "      <th>item_name</th>\n",
       "      <th>item_price</th>\n",
       "      <th>item_upc12</th>\n",
       "      <th>item_upc14</th>\n",
       "    </tr>\n",
       "  </thead>\n",
       "  <tbody>\n",
       "    <tr>\n",
       "      <th>0</th>\n",
       "      <td>0</td>\n",
       "      <td>0.0</td>\n",
       "      <td>Riceland</td>\n",
       "      <td>1</td>\n",
       "      <td>Riceland American Jazmine Rice</td>\n",
       "      <td>0.84</td>\n",
       "      <td>35200264013</td>\n",
       "      <td>35200264013</td>\n",
       "    </tr>\n",
       "    <tr>\n",
       "      <th>1</th>\n",
       "      <td>1</td>\n",
       "      <td>1.0</td>\n",
       "      <td>Caress</td>\n",
       "      <td>2</td>\n",
       "      <td>Caress Velvet Bliss Ultra Silkening Beauty Bar...</td>\n",
       "      <td>6.44</td>\n",
       "      <td>11111065925</td>\n",
       "      <td>11111065925</td>\n",
       "    </tr>\n",
       "    <tr>\n",
       "      <th>2</th>\n",
       "      <td>2</td>\n",
       "      <td>2.0</td>\n",
       "      <td>Earths Best</td>\n",
       "      <td>3</td>\n",
       "      <td>Earths Best Organic Fruit Yogurt Smoothie Mixe...</td>\n",
       "      <td>2.43</td>\n",
       "      <td>23923330139</td>\n",
       "      <td>23923330139</td>\n",
       "    </tr>\n",
       "    <tr>\n",
       "      <th>3</th>\n",
       "      <td>3</td>\n",
       "      <td>3.0</td>\n",
       "      <td>Boars Head</td>\n",
       "      <td>4</td>\n",
       "      <td>Boars Head Sliced White American Cheese - 120 Ct</td>\n",
       "      <td>3.14</td>\n",
       "      <td>208528800007</td>\n",
       "      <td>208528800007</td>\n",
       "    </tr>\n",
       "    <tr>\n",
       "      <th>4</th>\n",
       "      <td>4</td>\n",
       "      <td>4.0</td>\n",
       "      <td>Back To Nature</td>\n",
       "      <td>5</td>\n",
       "      <td>Back To Nature Gluten Free White Cheddar Rice ...</td>\n",
       "      <td>2.61</td>\n",
       "      <td>759283100036</td>\n",
       "      <td>759283100036</td>\n",
       "    </tr>\n",
       "  </tbody>\n",
       "</table>\n",
       "</div>"
      ],
      "text/plain": [
       "   level_0  index      item_brand  item_id  \\\n",
       "0        0    0.0        Riceland        1   \n",
       "1        1    1.0          Caress        2   \n",
       "2        2    2.0     Earths Best        3   \n",
       "3        3    3.0      Boars Head        4   \n",
       "4        4    4.0  Back To Nature        5   \n",
       "\n",
       "                                           item_name  item_price  \\\n",
       "0                     Riceland American Jazmine Rice        0.84   \n",
       "1  Caress Velvet Bliss Ultra Silkening Beauty Bar...        6.44   \n",
       "2  Earths Best Organic Fruit Yogurt Smoothie Mixe...        2.43   \n",
       "3   Boars Head Sliced White American Cheese - 120 Ct        3.14   \n",
       "4  Back To Nature Gluten Free White Cheddar Rice ...        2.61   \n",
       "\n",
       "     item_upc12    item_upc14  \n",
       "0   35200264013   35200264013  \n",
       "1   11111065925   11111065925  \n",
       "2   23923330139   23923330139  \n",
       "3  208528800007  208528800007  \n",
       "4  759283100036  759283100036  "
      ]
     },
     "execution_count": 24,
     "metadata": {},
     "output_type": "execute_result"
    }
   ],
   "source": [
    "items = pd.concat([items, items2]).reset_index()\n",
    "items.head()"
   ]
  },
  {
   "cell_type": "code",
   "execution_count": 25,
   "id": "358b8ea7-5d42-45ab-9805-5ab144c80ca1",
   "metadata": {},
   "outputs": [
    {
     "data": {
      "text/html": [
       "<div>\n",
       "<style scoped>\n",
       "    .dataframe tbody tr th:only-of-type {\n",
       "        vertical-align: middle;\n",
       "    }\n",
       "\n",
       "    .dataframe tbody tr th {\n",
       "        vertical-align: top;\n",
       "    }\n",
       "\n",
       "    .dataframe thead th {\n",
       "        text-align: right;\n",
       "    }\n",
       "</style>\n",
       "<table border=\"1\" class=\"dataframe\">\n",
       "  <thead>\n",
       "    <tr style=\"text-align: right;\">\n",
       "      <th></th>\n",
       "      <th>item_brand</th>\n",
       "      <th>item_id</th>\n",
       "      <th>item_name</th>\n",
       "      <th>item_price</th>\n",
       "      <th>item_upc12</th>\n",
       "      <th>item_upc14</th>\n",
       "    </tr>\n",
       "  </thead>\n",
       "  <tbody>\n",
       "    <tr>\n",
       "      <th>0</th>\n",
       "      <td>P.f. Changs</td>\n",
       "      <td>41</td>\n",
       "      <td>P.f. Changs Home Menu Meal For Two Beef With B...</td>\n",
       "      <td>5.62</td>\n",
       "      <td>31000670016</td>\n",
       "      <td>31000670016</td>\n",
       "    </tr>\n",
       "    <tr>\n",
       "      <th>1</th>\n",
       "      <td>Moms Best Naturals</td>\n",
       "      <td>42</td>\n",
       "      <td>Moms Best Naturals Cereal Toasted Cinnamon Squ...</td>\n",
       "      <td>2.97</td>\n",
       "      <td>883978129115</td>\n",
       "      <td>883978129115</td>\n",
       "    </tr>\n",
       "    <tr>\n",
       "      <th>2</th>\n",
       "      <td>Ferrara</td>\n",
       "      <td>43</td>\n",
       "      <td>Ferrara Vanilla Syrup</td>\n",
       "      <td>8.40</td>\n",
       "      <td>71403000379</td>\n",
       "      <td>71403000379</td>\n",
       "    </tr>\n",
       "    <tr>\n",
       "      <th>3</th>\n",
       "      <td>Elmers</td>\n",
       "      <td>44</td>\n",
       "      <td>Elmers Board Mate Dual Tip Glue Pen</td>\n",
       "      <td>7.06</td>\n",
       "      <td>26000001403</td>\n",
       "      <td>26000001403</td>\n",
       "    </tr>\n",
       "    <tr>\n",
       "      <th>4</th>\n",
       "      <td>Kelloggs</td>\n",
       "      <td>45</td>\n",
       "      <td>Kelloggs Disney Pixar Cars 2 Cereal</td>\n",
       "      <td>4.40</td>\n",
       "      <td>38000542237</td>\n",
       "      <td>38000542237</td>\n",
       "    </tr>\n",
       "  </tbody>\n",
       "</table>\n",
       "</div>"
      ],
      "text/plain": [
       "           item_brand  item_id  \\\n",
       "0         P.f. Changs       41   \n",
       "1  Moms Best Naturals       42   \n",
       "2             Ferrara       43   \n",
       "3              Elmers       44   \n",
       "4            Kelloggs       45   \n",
       "\n",
       "                                           item_name  item_price  \\\n",
       "0  P.f. Changs Home Menu Meal For Two Beef With B...        5.62   \n",
       "1  Moms Best Naturals Cereal Toasted Cinnamon Squ...        2.97   \n",
       "2                              Ferrara Vanilla Syrup        8.40   \n",
       "3                Elmers Board Mate Dual Tip Glue Pen        7.06   \n",
       "4                Kelloggs Disney Pixar Cars 2 Cereal        4.40   \n",
       "\n",
       "     item_upc12    item_upc14  \n",
       "0   31000670016   31000670016  \n",
       "1  883978129115  883978129115  \n",
       "2   71403000379   71403000379  \n",
       "3   26000001403   26000001403  \n",
       "4   38000542237   38000542237  "
      ]
     },
     "execution_count": 25,
     "metadata": {},
     "output_type": "execute_result"
    }
   ],
   "source": [
    "response3 = requests.get(base_url + data2['payload']['next_page'])\n",
    "data3 = response3.json()\n",
    "items3 = pd.DataFrame(data3['payload']['items'])\n",
    "items3.head()"
   ]
  },
  {
   "cell_type": "code",
   "execution_count": null,
   "id": "27e993d3-26ba-43dd-9b6e-dfb411d91af1",
   "metadata": {},
   "outputs": [],
   "source": []
  },
  {
   "cell_type": "code",
   "execution_count": null,
   "id": "1d72951a-8765-4130-84e9-9ac1479a7965",
   "metadata": {},
   "outputs": [],
   "source": [
    "Do the same thing, but for stores (https://python.zgulde.net/api/v1/stores)"
   ]
  },
  {
   "cell_type": "code",
   "execution_count": null,
   "id": "1e021d45-ec70-4250-8dde-776f9d1d3ac8",
   "metadata": {},
   "outputs": [],
   "source": []
  },
  {
   "cell_type": "markdown",
   "id": "e94627c0-35a9-413f-b2dc-9da07f1824c9",
   "metadata": {},
   "source": [
    "Extract the data for sales (https://python.zgulde.net/api/v1/sales). There are a lot of pages of data here, so your code will need to be a little more complex. Your code should continue fetching data from the next page until all of the data is extracted."
   ]
  },
  {
   "cell_type": "code",
   "execution_count": null,
   "id": "54ae3b1c-6342-4848-9770-1cd832868ba6",
   "metadata": {},
   "outputs": [],
   "source": []
  },
  {
   "cell_type": "markdown",
   "id": "471fd088-6b13-4c22-8fcf-bbe6a6bde5da",
   "metadata": {},
   "source": [
    "Save the data in your files to local csv files so that it will be faster to access in the future."
   ]
  },
  {
   "cell_type": "code",
   "execution_count": null,
   "id": "3bf3163a-18aa-4b1b-bef4-b2527a5c1e45",
   "metadata": {},
   "outputs": [],
   "source": []
  },
  {
   "cell_type": "markdown",
   "id": "c3fa0791-afa8-4d6e-9150-d9148d6e9bad",
   "metadata": {},
   "source": [
    "Combine the data from your three separate dataframes into one large dataframe."
   ]
  },
  {
   "cell_type": "code",
   "execution_count": null,
   "id": "bef90d1d-6208-4a8b-bbfc-1df517a8195e",
   "metadata": {},
   "outputs": [],
   "source": []
  },
  {
   "cell_type": "markdown",
   "id": "79340d5f-0757-48f4-bb12-15871e3ad947",
   "metadata": {},
   "source": [
    "Acquire the Open Power Systems Data for Germany, which has been rapidly expanding its renewable energy production in recent years. The data set includes country-wide totals of electricity consumption, wind power production, and solar power production for 2006-2017. You can get the data here: https://raw.githubusercontent.com/jenfly/opsd/master/opsd_germany_daily.csv\n"
   ]
  }
 ],
 "metadata": {
  "kernelspec": {
   "display_name": "Python 3 (ipykernel)",
   "language": "python",
   "name": "python3"
  },
  "language_info": {
   "codemirror_mode": {
    "name": "ipython",
    "version": 3
   },
   "file_extension": ".py",
   "mimetype": "text/x-python",
   "name": "python",
   "nbconvert_exporter": "python",
   "pygments_lexer": "ipython3",
   "version": "3.9.12"
  }
 },
 "nbformat": 4,
 "nbformat_minor": 5
}
