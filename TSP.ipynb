{
 "cells": [
  {
   "cell_type": "code",
   "execution_count": 8,
   "id": "fd5d8815-69a8-4c4e-8767-0bd6ecb57e54",
   "metadata": {},
   "outputs": [],
   "source": [
    "import env\n",
    "import sweetviz as vz\n",
    "import pandas as pd"
   ]
  },
  {
   "cell_type": "code",
   "execution_count": 4,
   "id": "e6214992-ecd9-49ec-aa17-8e4fe3873e5a",
   "metadata": {},
   "outputs": [],
   "source": [
    "def get_connection(db, user=env.user, host=env.host, password=env.password):\n",
    "    return f'mysql+pymysql://{user}:{password}@{host}/{db}'"
   ]
  },
  {
   "cell_type": "code",
   "execution_count": 6,
   "id": "a033ed25-507f-4199-80cd-32d46820b801",
   "metadata": {},
   "outputs": [],
   "source": [
    "get_connection('superstore_db')\n",
    "query = '''SELECT * FROM orders\n",
    "            left join customers\n",
    "            using (`Customer ID`)\n",
    "            left join categories\n",
    "            using (`Category ID`)\n",
    "            left join products\n",
    "            using(`Product ID`)\n",
    "            left join regions\n",
    "            using (`Region ID`)\n",
    "'''"
   ]
  },
  {
   "cell_type": "code",
   "execution_count": 10,
   "id": "30f077c5-b7eb-44a4-a23e-78ffc62198be",
   "metadata": {},
   "outputs": [],
   "source": [
    "df = pd.read_sql(query, get_connection('superstore_db'))"
   ]
  },
  {
   "cell_type": "code",
   "execution_count": 11,
   "id": "7ed54261-fc6e-4c7d-9224-701cdd0fd703",
   "metadata": {},
   "outputs": [
    {
     "data": {
      "text/html": [
       "<div>\n",
       "<style scoped>\n",
       "    .dataframe tbody tr th:only-of-type {\n",
       "        vertical-align: middle;\n",
       "    }\n",
       "\n",
       "    .dataframe tbody tr th {\n",
       "        vertical-align: top;\n",
       "    }\n",
       "\n",
       "    .dataframe thead th {\n",
       "        text-align: right;\n",
       "    }\n",
       "</style>\n",
       "<table border=\"1\" class=\"dataframe\">\n",
       "  <thead>\n",
       "    <tr style=\"text-align: right;\">\n",
       "      <th></th>\n",
       "      <th>Region ID</th>\n",
       "      <th>Product ID</th>\n",
       "      <th>Category ID</th>\n",
       "      <th>Customer ID</th>\n",
       "      <th>Order ID</th>\n",
       "      <th>Order Date</th>\n",
       "      <th>Ship Date</th>\n",
       "      <th>Ship Mode</th>\n",
       "      <th>Segment</th>\n",
       "      <th>Country</th>\n",
       "      <th>...</th>\n",
       "      <th>Postal Code</th>\n",
       "      <th>Sales</th>\n",
       "      <th>Quantity</th>\n",
       "      <th>Discount</th>\n",
       "      <th>Profit</th>\n",
       "      <th>Customer Name</th>\n",
       "      <th>Category</th>\n",
       "      <th>Sub-Category</th>\n",
       "      <th>Product Name</th>\n",
       "      <th>Region Name</th>\n",
       "    </tr>\n",
       "  </thead>\n",
       "  <tbody>\n",
       "    <tr>\n",
       "      <th>0</th>\n",
       "      <td>1</td>\n",
       "      <td>FUR-BO-10001798</td>\n",
       "      <td>1</td>\n",
       "      <td>CG-12520</td>\n",
       "      <td>CA-2016-152156</td>\n",
       "      <td>2016-11-08</td>\n",
       "      <td>2016-11-11</td>\n",
       "      <td>Second Class</td>\n",
       "      <td>Consumer</td>\n",
       "      <td>United States</td>\n",
       "      <td>...</td>\n",
       "      <td>42420.0</td>\n",
       "      <td>261.9600</td>\n",
       "      <td>2.0</td>\n",
       "      <td>0.00</td>\n",
       "      <td>41.9136</td>\n",
       "      <td>Claire Gute</td>\n",
       "      <td>Furniture</td>\n",
       "      <td>Bookcases</td>\n",
       "      <td>Bush Somerset Collection Bookcase</td>\n",
       "      <td>South</td>\n",
       "    </tr>\n",
       "    <tr>\n",
       "      <th>1</th>\n",
       "      <td>1</td>\n",
       "      <td>FUR-CH-10000454</td>\n",
       "      <td>2</td>\n",
       "      <td>CG-12520</td>\n",
       "      <td>CA-2016-152156</td>\n",
       "      <td>2016-11-08</td>\n",
       "      <td>2016-11-11</td>\n",
       "      <td>Second Class</td>\n",
       "      <td>Consumer</td>\n",
       "      <td>United States</td>\n",
       "      <td>...</td>\n",
       "      <td>42420.0</td>\n",
       "      <td>731.9400</td>\n",
       "      <td>3.0</td>\n",
       "      <td>0.00</td>\n",
       "      <td>219.5820</td>\n",
       "      <td>Claire Gute</td>\n",
       "      <td>Furniture</td>\n",
       "      <td>Chairs</td>\n",
       "      <td>Hon Deluxe Fabric Upholstered Stacking Chairs,...</td>\n",
       "      <td>South</td>\n",
       "    </tr>\n",
       "    <tr>\n",
       "      <th>2</th>\n",
       "      <td>2</td>\n",
       "      <td>OFF-LA-10000240</td>\n",
       "      <td>3</td>\n",
       "      <td>DV-13045</td>\n",
       "      <td>CA-2016-138688</td>\n",
       "      <td>2016-06-12</td>\n",
       "      <td>2016-06-16</td>\n",
       "      <td>Second Class</td>\n",
       "      <td>Corporate</td>\n",
       "      <td>United States</td>\n",
       "      <td>...</td>\n",
       "      <td>90036.0</td>\n",
       "      <td>14.6200</td>\n",
       "      <td>2.0</td>\n",
       "      <td>0.00</td>\n",
       "      <td>6.8714</td>\n",
       "      <td>Darrin Van Huff</td>\n",
       "      <td>Office Supplies</td>\n",
       "      <td>Labels</td>\n",
       "      <td>Self-Adhesive Address Labels for Typewriters b...</td>\n",
       "      <td>West</td>\n",
       "    </tr>\n",
       "    <tr>\n",
       "      <th>3</th>\n",
       "      <td>1</td>\n",
       "      <td>FUR-TA-10000577</td>\n",
       "      <td>4</td>\n",
       "      <td>SO-20335</td>\n",
       "      <td>US-2015-108966</td>\n",
       "      <td>2015-10-11</td>\n",
       "      <td>2015-10-18</td>\n",
       "      <td>Standard Class</td>\n",
       "      <td>Consumer</td>\n",
       "      <td>United States</td>\n",
       "      <td>...</td>\n",
       "      <td>33311.0</td>\n",
       "      <td>957.5775</td>\n",
       "      <td>5.0</td>\n",
       "      <td>0.45</td>\n",
       "      <td>-383.0310</td>\n",
       "      <td>Sean O'Donnell</td>\n",
       "      <td>Furniture</td>\n",
       "      <td>Tables</td>\n",
       "      <td>Bretford CR4500 Series Slim Rectangular Table</td>\n",
       "      <td>South</td>\n",
       "    </tr>\n",
       "    <tr>\n",
       "      <th>4</th>\n",
       "      <td>1</td>\n",
       "      <td>OFF-ST-10000760</td>\n",
       "      <td>5</td>\n",
       "      <td>SO-20335</td>\n",
       "      <td>US-2015-108966</td>\n",
       "      <td>2015-10-11</td>\n",
       "      <td>2015-10-18</td>\n",
       "      <td>Standard Class</td>\n",
       "      <td>Consumer</td>\n",
       "      <td>United States</td>\n",
       "      <td>...</td>\n",
       "      <td>33311.0</td>\n",
       "      <td>22.3680</td>\n",
       "      <td>2.0</td>\n",
       "      <td>0.20</td>\n",
       "      <td>2.5164</td>\n",
       "      <td>Sean O'Donnell</td>\n",
       "      <td>Office Supplies</td>\n",
       "      <td>Storage</td>\n",
       "      <td>Eldon Fold 'N Roll Cart System</td>\n",
       "      <td>South</td>\n",
       "    </tr>\n",
       "  </tbody>\n",
       "</table>\n",
       "<p>5 rows × 22 columns</p>\n",
       "</div>"
      ],
      "text/plain": [
       "   Region ID       Product ID  Category ID Customer ID        Order ID  \\\n",
       "0          1  FUR-BO-10001798            1    CG-12520  CA-2016-152156   \n",
       "1          1  FUR-CH-10000454            2    CG-12520  CA-2016-152156   \n",
       "2          2  OFF-LA-10000240            3    DV-13045  CA-2016-138688   \n",
       "3          1  FUR-TA-10000577            4    SO-20335  US-2015-108966   \n",
       "4          1  OFF-ST-10000760            5    SO-20335  US-2015-108966   \n",
       "\n",
       "   Order Date   Ship Date       Ship Mode    Segment        Country  ...  \\\n",
       "0  2016-11-08  2016-11-11    Second Class   Consumer  United States  ...   \n",
       "1  2016-11-08  2016-11-11    Second Class   Consumer  United States  ...   \n",
       "2  2016-06-12  2016-06-16    Second Class  Corporate  United States  ...   \n",
       "3  2015-10-11  2015-10-18  Standard Class   Consumer  United States  ...   \n",
       "4  2015-10-11  2015-10-18  Standard Class   Consumer  United States  ...   \n",
       "\n",
       "  Postal Code     Sales  Quantity  Discount    Profit    Customer Name  \\\n",
       "0     42420.0  261.9600       2.0      0.00   41.9136      Claire Gute   \n",
       "1     42420.0  731.9400       3.0      0.00  219.5820      Claire Gute   \n",
       "2     90036.0   14.6200       2.0      0.00    6.8714  Darrin Van Huff   \n",
       "3     33311.0  957.5775       5.0      0.45 -383.0310   Sean O'Donnell   \n",
       "4     33311.0   22.3680       2.0      0.20    2.5164   Sean O'Donnell   \n",
       "\n",
       "          Category Sub-Category  \\\n",
       "0        Furniture    Bookcases   \n",
       "1        Furniture       Chairs   \n",
       "2  Office Supplies       Labels   \n",
       "3        Furniture       Tables   \n",
       "4  Office Supplies      Storage   \n",
       "\n",
       "                                        Product Name Region Name  \n",
       "0                  Bush Somerset Collection Bookcase       South  \n",
       "1  Hon Deluxe Fabric Upholstered Stacking Chairs,...       South  \n",
       "2  Self-Adhesive Address Labels for Typewriters b...        West  \n",
       "3      Bretford CR4500 Series Slim Rectangular Table       South  \n",
       "4                     Eldon Fold 'N Roll Cart System       South  \n",
       "\n",
       "[5 rows x 22 columns]"
      ]
     },
     "execution_count": 11,
     "metadata": {},
     "output_type": "execute_result"
    }
   ],
   "source": [
    "df.head()"
   ]
  },
  {
   "cell_type": "code",
   "execution_count": 12,
   "id": "877ebbea-c0c3-482c-9386-1eebaa633771",
   "metadata": {},
   "outputs": [
    {
     "name": "stdout",
     "output_type": "stream",
     "text": [
      "<class 'pandas.core.frame.DataFrame'>\n",
      "RangeIndex: 1734 entries, 0 to 1733\n",
      "Data columns (total 22 columns):\n",
      " #   Column         Non-Null Count  Dtype  \n",
      "---  ------         --------------  -----  \n",
      " 0   Region ID      1734 non-null   int64  \n",
      " 1   Product ID     1734 non-null   object \n",
      " 2   Category ID    1734 non-null   int64  \n",
      " 3   Customer ID    1734 non-null   object \n",
      " 4   Order ID       1734 non-null   object \n",
      " 5   Order Date     1734 non-null   object \n",
      " 6   Ship Date      1734 non-null   object \n",
      " 7   Ship Mode      1734 non-null   object \n",
      " 8   Segment        1734 non-null   object \n",
      " 9   Country        1734 non-null   object \n",
      " 10  City           1734 non-null   object \n",
      " 11  State          1734 non-null   object \n",
      " 12  Postal Code    1734 non-null   float64\n",
      " 13  Sales          1734 non-null   float64\n",
      " 14  Quantity       1734 non-null   float64\n",
      " 15  Discount       1734 non-null   float64\n",
      " 16  Profit         1734 non-null   float64\n",
      " 17  Customer Name  1734 non-null   object \n",
      " 18  Category       1734 non-null   object \n",
      " 19  Sub-Category   1734 non-null   object \n",
      " 20  Product Name   1734 non-null   object \n",
      " 21  Region Name    1734 non-null   object \n",
      "dtypes: float64(5), int64(2), object(15)\n",
      "memory usage: 298.2+ KB\n"
     ]
    }
   ],
   "source": [
    "df.info()"
   ]
  },
  {
   "cell_type": "code",
   "execution_count": 13,
   "id": "05c2a194-590b-46db-b60b-dd22a0a3de83",
   "metadata": {},
   "outputs": [
    {
     "data": {
      "application/vnd.jupyter.widget-view+json": {
       "model_id": "55204482aba5487886ce219d444b7016",
       "version_major": 2,
       "version_minor": 0
      },
      "text/plain": [
       "                                             |      | [  0%]   00:00 -> (? left)"
      ]
     },
     "metadata": {},
     "output_type": "display_data"
    }
   ],
   "source": [
    "analyze_report = vz.analyze(df)"
   ]
  },
  {
   "cell_type": "code",
   "execution_count": 14,
   "id": "7606e0a1-8ec4-47f6-b2e1-ed62bb54192f",
   "metadata": {},
   "outputs": [
    {
     "name": "stdout",
     "output_type": "stream",
     "text": [
      "Report output.html was generated! NOTEBOOK/COLAB USERS: the web browser MAY not pop up, regardless, the report IS saved in your notebook/colab files.\n"
     ]
    }
   ],
   "source": [
    "analyze_report.show_html('output.html', open_browser=True)"
   ]
  },
  {
   "cell_type": "code",
   "execution_count": null,
   "id": "5cf92bbc-d912-4681-a30a-bad2f6dee3f8",
   "metadata": {},
   "outputs": [],
   "source": []
  }
 ],
 "metadata": {
  "kernelspec": {
   "display_name": "Python 3 (ipykernel)",
   "language": "python",
   "name": "python3"
  },
  "language_info": {
   "codemirror_mode": {
    "name": "ipython",
    "version": 3
   },
   "file_extension": ".py",
   "mimetype": "text/x-python",
   "name": "python",
   "nbconvert_exporter": "python",
   "pygments_lexer": "ipython3",
   "version": "3.9.12"
  }
 },
 "nbformat": 4,
 "nbformat_minor": 5
}
